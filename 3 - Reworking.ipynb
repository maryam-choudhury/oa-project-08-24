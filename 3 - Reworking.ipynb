{
 "cells": [
  {
   "cell_type": "code",
   "execution_count": 1,
   "id": "addef17f-906c-4153-944a-0b4094bb1fbb",
   "metadata": {},
   "outputs": [],
   "source": [
    "import numpy as np\n",
    "import scipy as sp\n",
    "from quadrotor.dynamics import QuadrotorDynamicsBase, QuadrotorState\n",
    "from quadrotor.controller import ControllerBase, QuadrotorCommands\n",
    "from quadrotor.trajectory import TrajectoryBase, TrajectoryState\n",
    "from sym import Rot3"
   ]
  },
  {
   "cell_type": "code",
   "execution_count": 2,
   "id": "76278d2c-d987-4579-94b8-00d9c61a4c55",
   "metadata": {},
   "outputs": [],
   "source": [
    "def dRot3(R: Rot3, omega: np.ndarray) -> Rot3:\n",
    "    \"\"\"\n",
    "    NOTE(roy): If interested, we can discuss the math here later. There are other\n",
    "    ways of doing this but to keep the ode_int formulation, we specifically require\n",
    "    dq/dt. Refer to 'Baseile Graf - Quaternions and Dynamics' or (for intuition)\n",
    "    https://math.stackexchange.com/questions/1896379/how-to-use-the-quaternion-derivative\n",
    "    \"\"\"\n",
    "    quat = np.array(R.to_storage())  # Convert to raw quaternion\n",
    "    (q0, q1, q2, q3) = quat  # xyzw storage, see https://symforce.org/api-gen-cpp/class/classsym_1_1Rot3.html\n",
    "\n",
    "    G = np.array([\n",
    "        [ q3,  q2, -q1, -q0],\n",
    "        [-q2,  q3,  q0, -q1],\n",
    "        [ q1, -q0,  q3, -q2]\n",
    "    ])\n",
    "    quat_dot = (G.T @ omega) / 2\n",
    "    return Rot3.from_storage(quat_dot)"
   ]
  },
  {
   "cell_type": "code",
   "execution_count": 3,
   "id": "165b15cc-a9bd-423b-be45-f8cf59b7c2e5",
   "metadata": {},
   "outputs": [],
   "source": [
    "from dataclasses import dataclass, field\n",
    "\n",
    "@dataclass\n",
    "class Params:\n",
    "    \"\"\"A little utility class to hold our quadrotor parameters\"\"\"\n",
    "    mass: float = 1.352  # [kg]\n",
    "\n",
    "    # NOTE(roy) this is a matrix now as discussed!\n",
    "    inertia: np.ndarray = field(default_factory=lambda: np.array([\n",
    "        [9.8e-3, 0, 0],\n",
    "        [0, 10.02e-3, 0],\n",
    "        [0, 0, 18.6e-3],\n",
    "    ]))\n",
    "\n",
    "    rotor_diameter: float = 10 * 0.0254  # [m] 10 inches\n",
    "\n",
    "    static_thrust_coefficient: float = 0.14553  # [-] Thrust coefficient\n",
    "    static_torque_coefficient: float = 0.01047  # [-] Torque coefficient\n",
    "\n",
    "    # NOTE(roy) assume this is the same front-to-back and left-to-right\n",
    "    arm_length: float = 0.3814 / 2.0  # [m] Arm length\n",
    "\n",
    "    # Universal constants\n",
    "    g: float = 9.80665  # [m/s2] Gravity\n",
    "    rho: float = 1.225  # [kg/m3] Sea-level density\n",
    "\n",
    "    def rotor_model(self, static_coefficient: float) -> float:\n",
    "        # NOTE(roy) I'm just including this for completeness sake, this means we can e.g. see how air density\n",
    "        # influences our simulation. Refer to this source for derivation:\n",
    "        # https://web.mit.edu/16.unified/www/FALL/thermodynamics/notes/node86.html\n",
    "        return self.rho * static_coefficient * (self.rotor_diameter ** 4) / (4 * np.pi ** 2)\n",
    "\n",
    "    # NOTE(roy) if you're unsure what @property decorators do: they make it so that we can call k_thrust as if it was just a class\n",
    "    # variable. I.e. we'd write params.k_thrust now, rather than params.k_thrust()\n",
    "    @property\n",
    "    def k_thrust(self):\n",
    "        return self.rotor_model(self.static_thrust_coefficient)\n",
    "\n",
    "    @property\n",
    "    def k_torque(self):\n",
    "        return self.rotor_model(self.static_torque_coefficient)\n",
    "                                \n",
    "p = Params()"
   ]
  },
  {
   "cell_type": "code",
   "execution_count": 4,
   "id": "654fcbaf-9a30-4668-af12-2af6a5875de6",
   "metadata": {},
   "outputs": [],
   "source": [
    "class FullQuadrotorDynamics(QuadrotorDynamicsBase):\n",
    "    def __init__(self) -> None:\n",
    "        super().__init__()\n",
    "\n",
    "    @staticmethod\n",
    "    def rotor_thrust_model(rotor_rates: np.ndarray) -> np.ndarray:\n",
    "        thrust = p.k_thrust * np.square(rotor_rates)\n",
    "        return thrust\n",
    "\n",
    "    def step(self, t: float, input: QuadrotorCommands) -> QuadrotorState:\n",
    "        thrusts = FullQuadrotorDynamics.rotor_thrust_model(input.rotor_rates)\n",
    "        \n",
    "        u1 = np.array([0, 0, np.sum(thrusts)])\n",
    "        \n",
    "        u2 = np.array([\n",
    "            p.arm_length * (thrusts[0] - thrusts[2]),\n",
    "            p.arm_length * (thrusts[1] - thrusts[3]),\n",
    "            p.k_torque * (input.rotor_rates[0] - input.rotor_rates[1] + input.rotor_rates[2] - input.rotor_rates[3])\n",
    "        ])\n",
    "        \n",
    "        def state_derivative(t: float, state: np.ndarray) -> np.ndarray:\n",
    "            return FullQuadrotorDynamics.state_derivative(\n",
    "                QuadrotorState.from_state_vector(state),\n",
    "                u1,\n",
    "                u2\n",
    "            ).to_state_vector()\n",
    "        \n",
    "        state_vector = self.state.to_state_vector()\n",
    "        \n",
    "        solution = sp.integrate.solve_ivp(\n",
    "            fun=state_derivative,\n",
    "            t_span=(0, self.dt),\n",
    "            y0=state_vector,\n",
    "            method='RK45'\n",
    "        )\n",
    "        \n",
    "        self.state = QuadrotorState.from_state_vector(solution.y[:, -1])\n",
    "        return self.state\n",
    "\n",
    "    @staticmethod\n",
    "    def state_derivative(state: QuadrotorState, u1: np.ndarray, u2: np.ndarray) -> QuadrotorState:\n",
    "        R = state.orientation.to_rotation_matrix()\n",
    "        gravity = np.array([0, 0, -p.g])\n",
    "        \n",
    "        accel = (1 / p.mass) * (R @ u1 + p.mass * gravity)\n",
    "        \n",
    "        omega = state.angular_velocity\n",
    "        angular_accel = np.linalg.inv(p.inertia) @ (u2 - np.cross(omega, p.inertia @ omega))\n",
    "        \n",
    "        state_derivative = QuadrotorState(\n",
    "            position=state.velocity,\n",
    "            velocity=accel,\n",
    "            orientation=dRot3(state.orientation, omega),\n",
    "            angular_velocity=angular_accel\n",
    "        )\n",
    "        \n",
    "        return state_derivative"
   ]
  },
  {
   "cell_type": "code",
   "execution_count": 5,
   "id": "311ea81c-5937-47e6-a1dd-8ea1f4da69dd",
   "metadata": {},
   "outputs": [
    {
     "name": "stdout",
     "output_type": "stream",
     "text": [
      "419.9395843340998\n"
     ]
    }
   ],
   "source": [
    "required_thrust = p.mass * p.g\n",
    "\n",
    "# Calculating the rotor rate needed to produce half of the required thrust (as there are 4 rotors)\n",
    "hovering_rotor_rate = np.sqrt(required_thrust / (4 * p.k_thrust))\n",
    "print(hovering_rotor_rate);"
   ]
  },
  {
   "cell_type": "code",
   "execution_count": 6,
   "id": "0043b36d-bb79-4caf-9fc3-6186dd7d9db0",
   "metadata": {},
   "outputs": [],
   "source": [
    "class EmptyTrajectory(TrajectoryBase):\n",
    "    def eval(self, *args):\n",
    "        return TrajectoryState(0.0, position=np.zeros(3))  # Trajectory not yet important"
   ]
  },
  {
   "cell_type": "code",
   "execution_count": 7,
   "id": "8b3e4b38-ec4b-4ef0-b41d-cae9743c7871",
   "metadata": {},
   "outputs": [],
   "source": [
    "class EmptyController(ControllerBase):\n",
    "    def step(self, *args) -> QuadrotorCommands:\n",
    "        return QuadrotorCommands(np.array([300, 300, 300, 300]))"
   ]
  },
  {
   "cell_type": "code",
   "execution_count": 8,
   "id": "a3381c4b-81c1-44b5-9af1-5d26d1a17974",
   "metadata": {},
   "outputs": [],
   "source": [
    "class HoveringController(ControllerBase):\n",
    "    def step(self, *args) -> QuadrotorCommands:\n",
    "        return QuadrotorCommands(np.array([hovering_rotor_rate, hovering_rotor_rate, hovering_rotor_rate, hovering_rotor_rate]))"
   ]
  },
  {
   "cell_type": "code",
   "execution_count": 9,
   "id": "773cc01e-3bc4-4827-aa9c-8f0cec935d34",
   "metadata": {},
   "outputs": [],
   "source": [
    "from quadrotor.simulator import SimulatorBase, SimulatorState\n",
    "\n",
    "from quadrotor.renderer import animate_k3d\n",
    "\n",
    "def run_and_render(initial_state: QuadrotorState, t_total: int = 0.5):\n",
    "    sim = SimulatorBase(\n",
    "        dt=0.01,\n",
    "        dynamics=FullQuadrotorDynamics(),\n",
    "        controller=HoveringController(),  # Using the new controller aka 'hovering controller'\n",
    "        trajectory=EmptyTrajectory(),\n",
    "        initial_state=initial_state,\n",
    "        t_total=t_total,\n",
    "    )\n",
    "    \n",
    "    # Run the simulator\n",
    "    output = sim.simulate()\n",
    "\n",
    "    # K3D renderer\n",
    "    plot = animate_k3d(output)\n",
    "    \n",
    "    plot.display()\n",
    "    plot.start_auto_play()"
   ]
  },
  {
   "cell_type": "code",
   "execution_count": 10,
   "id": "154e3f05-07da-4f56-ada4-c66156b927a9",
   "metadata": {},
   "outputs": [
    {
     "name": "stderr",
     "output_type": "stream",
     "text": [
      "/Users/maryamchoudhury/.local/share/virtualenvs/oa-project-08-24-RgAkkMD-/lib/python3.12/site-packages/traittypes/traittypes.py:97: UserWarning: Given trait value dtype \"float64\" does not match required type \"float32\". A coerced copy has been created.\n",
      "  warnings.warn(\n"
     ]
    },
    {
     "data": {
      "application/vnd.jupyter.widget-view+json": {
       "model_id": "96c8806f62924848a3338003d04faca1",
       "version_major": 2,
       "version_minor": 0
      },
      "text/plain": [
       "Output()"
      ]
     },
     "metadata": {},
     "output_type": "display_data"
    }
   ],
   "source": [
    "# NOTE(roy) play with this variable and see what happens!\n",
    "initial_state = QuadrotorState(\n",
    "    position=np.zeros(3),\n",
    "    velocity=np.array([0, 0, 0]),\n",
    "    orientation=Rot3.from_yaw_pitch_roll(0, 0, 0),\n",
    "    angular_velocity=np.zeros(3),\n",
    ")\n",
    "\n",
    "run_and_render(initial_state, 5.0)"
   ]
  },
  {
   "cell_type": "code",
   "execution_count": null,
   "id": "53082a76-9c78-487b-85c7-dea6dcf5a8bf",
   "metadata": {},
   "outputs": [],
   "source": []
  },
  {
   "cell_type": "code",
   "execution_count": null,
   "id": "ff10cbc2-2e8b-4539-a52a-89b775decf62",
   "metadata": {},
   "outputs": [],
   "source": []
  }
 ],
 "metadata": {
  "kernelspec": {
   "display_name": "Python 3 (ipykernel)",
   "language": "python",
   "name": "python3"
  },
  "language_info": {
   "codemirror_mode": {
    "name": "ipython",
    "version": 3
   },
   "file_extension": ".py",
   "mimetype": "text/x-python",
   "name": "python",
   "nbconvert_exporter": "python",
   "pygments_lexer": "ipython3",
   "version": "3.12.5"
  }
 },
 "nbformat": 4,
 "nbformat_minor": 5
}
