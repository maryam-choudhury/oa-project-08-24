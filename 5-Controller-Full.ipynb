{
 "cells": [
  {
   "cell_type": "code",
   "execution_count": 56,
   "id": "2e2d9694-0169-4b4e-8234-d287f5737115",
   "metadata": {},
   "outputs": [],
   "source": [
    "import numpy as np\n",
    "import scipy as sp"
   ]
  },
  {
   "cell_type": "code",
   "execution_count": 57,
   "id": "b2cdc081-ec7f-4628-b878-cb8de4e9660d",
   "metadata": {},
   "outputs": [],
   "source": [
    "from quadrotor.dynamics import QuadrotorDynamicsBase, QuadrotorState\n",
    "from quadrotor.controller import ControllerBase, QuadrotorCommands\n",
    "from quadrotor.trajectory import TrajectoryBase, TrajectoryState"
   ]
  },
  {
   "cell_type": "code",
   "execution_count": 58,
   "id": "0610fe28-f931-4810-9e95-543ceed1844c",
   "metadata": {},
   "outputs": [],
   "source": [
    "from sym import Rot3\n",
    "\n",
    "def dRot3(R: Rot3, omega: np.ndarray) -> Rot3:\n",
    "    \"\"\"\n",
    "    NOTE(roy): If interested, we can discuss the math here later. There are other\n",
    "    ways of doing this but to keep the ode_int formulation, we specifically require\n",
    "    dq/dt. Refer to 'Baseile Graf - Quaternions and Dynamics' or (for intuition)\n",
    "    https://math.stackexchange.com/questions/1896379/how-to-use-the-quaternion-derivative\n",
    "    \"\"\"\n",
    "    quat = np.array(R.to_storage())  # Convert to raw quaternion\n",
    "    (q0, q1, q2, q3) = quat  # xyzw storage\n",
    "\n",
    "    G = np.array([[ q3,  q2, -q1, -q0],\n",
    "                [-q2,  q3,  q0, -q1],\n",
    "                [ q1, -q0,  q3, -q2]])\n",
    "    quat_dot = (G.T @ omega) / 2\n",
    "    return Rot3.from_storage(quat_dot)"
   ]
  },
  {
   "cell_type": "code",
   "execution_count": 59,
   "id": "e3fb020e-cedc-43c7-8702-7c5b53b8e3eb",
   "metadata": {},
   "outputs": [],
   "source": [
    "from dataclasses import dataclass, field\n",
    "\n",
    "@dataclass\n",
    "class Params:\n",
    "    mass: float = 1.352  # [kg]\n",
    "    inertia: np.ndarray = field(default_factory=lambda: np.array([\n",
    "        [9.8e-3, 0, 0],\n",
    "        [0, 10.02e-3, 0],\n",
    "        [0, 0, 18.6e-3],\n",
    "    ]))\n",
    "    rotor_diameter: float = 10 * 0.0254  # [m] 10 inches\n",
    "    static_thrust_coefficient: float = 0.14553  # [-] Thrust coefficient\n",
    "    static_torque_coefficient: float = 0.01047  # [-] Torque coefficient\n",
    "    arm_length: float = 0.3814 / 2.0  # [m] Arm length\n",
    "    g: float = 9.80665  # [m/s2] Gravity\n",
    "    rho: float = 1.225  # [kg/m3] Sea-level density\n",
    "\n",
    "    def rotor_model(self, static_coefficient: float) -> float:\n",
    "        return self.rho * static_coefficient * (self.rotor_diameter ** 4) / (4 * np.pi ** 2)\n",
    "\n",
    "    @property\n",
    "    def k_thrust(self):\n",
    "        return self.rotor_model(self.static_thrust_coefficient)\n",
    "\n",
    "    @property\n",
    "    def k_torque(self):\n",
    "        return self.rotor_model(self.static_torque_coefficient)\n",
    "\n",
    "p = Params()"
   ]
  },
  {
   "cell_type": "markdown",
   "id": "00214c95-a63b-4d47-bf7e-9687d1d68b52",
   "metadata": {},
   "source": [
    "### Finishing the controller\n",
    "In this notebook, you'll take your previous implementation where we just controller altitude (z-position) and expand it to build the full position-attitude loop.\n",
    "\n",
    "**Note that I updated the controller params class with some extra parameters!**\n",
    "\n",
    "#### Recommended steps\n",
    "- Copy your 3D quadrotor model\n",
    "- Copy your controller implementation\n",
    "- Expand the controller class\n",
    "    - Compute the desired roll/pitch using the equations from the lecture\n",
    "    - Compute the attitude errors\n",
    "    - Compute the desired angular acceleration\n",
    "    - Compute `u_2`\n",
    "    - Tune your system (the gains provided _should_ provide a relatively stable starting point!)"
   ]
  },
  {
   "cell_type": "markdown",
   "id": "cb3d307d-da05-44b2-9fe5-ff2e17de9bc4",
   "metadata": {},
   "source": [
    "### The dynamics"
   ]
  },
  {
   "cell_type": "code",
   "execution_count": 60,
   "id": "c5eaf6e3-647e-4d34-9708-b23e93d24a25",
   "metadata": {},
   "outputs": [],
   "source": [
    "# Copy your dynamics here!\n",
    "from quadrotor.dynamics import QuadrotorState\n",
    "from sym import Rot3\n",
    "\n",
    "class FullQuadrotorDynamics(QuadrotorDynamicsBase):\n",
    "    def step(self, t: float, commands: QuadrotorCommands, state: QuadrotorState) -> QuadrotorState:\n",
    "        dt = 0.005  # Time step\n",
    "\n",
    "        position, velocity = state.position, state.velocity\n",
    "        orientation = state.orientation\n",
    "        angular_velocity = state.angular_velocity\n",
    "\n",
    "        u1, u2 = commands.u1, commands.u2\n",
    "\n",
    "        acceleration = (u1 / p.mass) * np.array([0, 0, 1]) - np.array([0, 0, p.g])\n",
    "        new_velocity = velocity + acceleration * dt\n",
    "        new_position = position + new_velocity * dt\n",
    "\n",
    "        angular_acceleration = np.linalg.inv(p.inertia) @ (u2 - np.cross(angular_velocity, p.inertia @ angular_velocity))\n",
    "        new_angular_velocity = angular_velocity + angular_acceleration * dt\n",
    "        new_orientation = dRot3(orientation, new_angular_velocity)\n",
    "\n",
    "        return QuadrotorState(\n",
    "            position=new_position,\n",
    "            velocity=new_velocity,\n",
    "            orientation=new_orientation,\n",
    "            angular_velocity=new_angular_velocity,\n",
    "        )\n"
   ]
  },
  {
   "cell_type": "markdown",
   "id": "4f9ba9d3-8567-47a8-99dd-bb866fb4ad2b",
   "metadata": {},
   "source": [
    "### The controller"
   ]
  },
  {
   "cell_type": "code",
   "execution_count": 61,
   "id": "18f7f265-951c-4df8-84de-327587df84e5",
   "metadata": {},
   "outputs": [],
   "source": [
    "@dataclass\n",
    "class ControllerParams:\n",
    "    #Includes controller gains\n",
    "    K_p: np.ndarray = field(default_factory=lambda: np.diag([1, 1, 100]))\n",
    "    K_d: np.ndarray = field(default_factory=lambda: np.diag([0.5, 0.5, 10]))\n",
    "    Ka_p: np.ndarray = field(default_factory=lambda: np.diag([300, 300, 50]))\n",
    "    Ka_d: np.ndarray = field(default_factory=lambda: np.diag([50, 50, 20]))\n",
    "    rotor_rate_min: float = 180\n",
    "    rotor_rate_max: float = 600\n",
    "\n",
    "controller_p = ControllerParams()"
   ]
  },
  {
   "cell_type": "code",
   "execution_count": 62,
   "id": "2e3538de-d020-47bc-a028-0f2a104f7b39",
   "metadata": {},
   "outputs": [],
   "source": [
    "# Write your controller here!\n",
    "from quadrotor.controller import ControllerBase\n",
    "\n",
    "class Controller(ControllerBase):\n",
    "    def __init__(self, params: ControllerParams):\n",
    "        self.params = params\n",
    "\n",
    "    def step(self, t: float, trajectory: TrajectoryState, state: QuadrotorState) -> QuadrotorCommands:\n",
    "        desired_position = trajectory.position\n",
    "        actual_position = state.position\n",
    "        position_error = desired_position - actual_position\n",
    "\n",
    "        desired_velocity = np.zeros(3)  # Assume we want to come to a stop at the target\n",
    "        actual_velocity = state.velocity\n",
    "        velocity_error = desired_velocity - actual_velocity\n",
    "\n",
    "        # PD control for thrust (u1)\n",
    "        commanded_acceleration = self.params.K_p @ position_error + self.params.K_d @ velocity_error\n",
    "        u1 = p.mass * (p.g + commanded_acceleration[2])\n",
    "\n",
    "        # Desired roll/pitch\n",
    "        yaw = state.orientation.to_yaw_pitch_roll()[0]  # Decompose to get yaw angle\n",
    "        phi_des = (1 / p.g) * (commanded_acceleration[0] * np.sin(yaw) - commanded_acceleration[1] * np.cos(yaw))\n",
    "        theta_des = (1 / p.g) * (commanded_acceleration[0] * np.cos(yaw) + commanded_acceleration[1] * np.sin(yaw))\n",
    "\n",
    "        # Attitude control\n",
    "        desired_orientation = Rot3.from_yaw_pitch_roll(trajectory.yaw, theta_des, phi_des)\n",
    "        orientation_error = desired_orientation.compose(state.orientation.inverse())\n",
    "\n",
    "        orientation_error_matrix = orientation_error.to_rotation_matrix()  # Add orientation error matrix\n",
    "        orientation_error_vec = np.array([orientation_error_matrix[2, 1], \n",
    "                                          orientation_error_matrix[0, 2], \n",
    "                                          orientation_error_matrix[1, 0]])\n",
    "\n",
    "        angular_velocity_error = np.zeros(3) - state.angular_velocity\n",
    "\n",
    "        # PD control for angular velocities (u2)\n",
    "        u2 = self.params.Ka_p @ orientation_error_vec + self.params.Ka_d @ angular_velocity_error\n",
    "\n",
    "        # Pack the control commands (fix: pass positional arguments u1 and u2)\n",
    "        #Now I am getting an error RE I have -1 positional args than I need...idk why this would be\n",
    "        return QuadrotorCommands(u1, u2)\n",
    "        "
   ]
  },
  {
   "cell_type": "markdown",
   "id": "e9b945e2-f8cd-4fbd-9e8e-491a2e3ea825",
   "metadata": {},
   "source": [
    "### The trajectory\n",
    "Just something simple, mess around with it!"
   ]
  },
  {
   "cell_type": "code",
   "execution_count": 63,
   "id": "128e7c3e-3b65-44dd-bea7-3c0a48184e20",
   "metadata": {},
   "outputs": [],
   "source": [
    "#class JumpTrajectory(TrajectoryBase):\n",
    "    #def eval(self, t: float):\n",
    "        #x = 0 if t < 1.0 or t > 5.0 else 1.0\n",
    "        #y = 0 if t < 2.0 or t > 5.0 else 1.0\n",
    "        #position = np.array([x, y, 0])\n",
    "        #yaw_rate = 0.5\n",
    "        #yaw = yaw_rate * t\n",
    "        #return TrajectoryState(t, position=position, yaw=yaw, yaw_rate=yaw_rate)\n",
    "\n",
    "class SmoothTrajectory(TrajectoryBase):\n",
    "    def eval(self, t: float):\n",
    "        # Updatedtrajectory with smoother transitions\n",
    "        position = np.array([0.5 * np.sin(t), 0.5 * np.cos(t), 0.2 * t])  # Smoother motion\n",
    "        yaw_rate = 0.1  # Slower yaw rotation\n",
    "        yaw = yaw_rate * t\n",
    "        return TrajectoryState(t, position=position, yaw=yaw, yaw_rate=yaw_rate)"
   ]
  },
  {
   "cell_type": "code",
   "execution_count": 64,
   "id": "4c71f459-6106-4d8c-89dd-df93eba630ad",
   "metadata": {},
   "outputs": [],
   "source": [
    "from quadrotor.simulator import SimulatorBase, SimulatorState\n",
    "\n",
    "# This might be slow to run the first time!\n",
    "from quadrotor.renderer import animate_k3d"
   ]
  },
  {
   "cell_type": "code",
   "execution_count": 65,
   "id": "876309da-841b-4357-99b5-0f8e37e35e70",
   "metadata": {},
   "outputs": [],
   "source": [
    "#def run_and_render(initial_state: QuadrotorState, t_total: int = 2.0):\n",
    "    #sim = SimulatorBase(\n",
    "      #  dt=0.005,\n",
    "       # dynamics=FullQuadrotorDynamics(),\n",
    "       # controller=Controller(controller_p),    #Need to pass in the controller params\n",
    "       # trajectory=JumpTrajectory(),\n",
    "       # initial_state=initial_state,\n",
    "       # t_total=t_total,\n",
    "    #)\n",
    "    \n",
    "def run_and_render_smooth(initial_state: QuadrotorState, t_total: int = 2.0):\n",
    "    sim = SimulatorBase(\n",
    "        dt=0.005,\n",
    "        dynamics=FullQuadrotorDynamics(),\n",
    "        controller=Controller(controller_p),    # Use the same controller params\n",
    "        trajectory=SmoothTrajectory(),          # Use smooth trajectory\n",
    "        initial_state=initial_state,\n",
    "        t_total=t_total,\n",
    "    )\n",
    "    \n",
    "    output = sim.simulate()\n",
    "    plot = animate_k3d(output)\n",
    "    \n",
    "    plot.display()\n",
    "    plot.start_auto_play()\n"
   ]
  },
  {
   "cell_type": "code",
   "execution_count": 66,
   "id": "45e8c4f7-c031-4824-a8d6-bf6b6b7a0e10",
   "metadata": {},
   "outputs": [
    {
     "ename": "TypeError",
     "evalue": "QuadrotorCommands.__init__() takes 2 positional arguments but 3 were given",
     "output_type": "error",
     "traceback": [
      "\u001b[0;31m---------------------------------------------------------------------------\u001b[0m",
      "\u001b[0;31mTypeError\u001b[0m                                 Traceback (most recent call last)",
      "Cell \u001b[0;32mIn[66], line 18\u001b[0m\n\u001b[1;32m     13\u001b[0m controller_p\u001b[38;5;241m.\u001b[39mKa_d \u001b[38;5;241m=\u001b[39m np\u001b[38;5;241m.\u001b[39mdiag([\u001b[38;5;241m30\u001b[39m, \u001b[38;5;241m30\u001b[39m, \u001b[38;5;241m10\u001b[39m])\n\u001b[1;32m     16\u001b[0m \u001b[38;5;66;03m# Run the simulation for 10 seconds\u001b[39;00m\n\u001b[1;32m     17\u001b[0m \u001b[38;5;66;03m#run_and_render(initial_state, t_total=10.0)\u001b[39;00m\n\u001b[0;32m---> 18\u001b[0m \u001b[43mrun_and_render_smooth\u001b[49m\u001b[43m(\u001b[49m\u001b[43minitial_state\u001b[49m\u001b[43m,\u001b[49m\u001b[43m \u001b[49m\u001b[43mt_total\u001b[49m\u001b[38;5;241;43m=\u001b[39;49m\u001b[38;5;241;43m10.0\u001b[39;49m\u001b[43m)\u001b[49m\n",
      "Cell \u001b[0;32mIn[65], line 21\u001b[0m, in \u001b[0;36mrun_and_render_smooth\u001b[0;34m(initial_state, t_total)\u001b[0m\n\u001b[1;32m     11\u001b[0m \u001b[38;5;28;01mdef\u001b[39;00m \u001b[38;5;21mrun_and_render_smooth\u001b[39m(initial_state: QuadrotorState, t_total: \u001b[38;5;28mint\u001b[39m \u001b[38;5;241m=\u001b[39m \u001b[38;5;241m2.0\u001b[39m):\n\u001b[1;32m     12\u001b[0m     sim \u001b[38;5;241m=\u001b[39m SimulatorBase(\n\u001b[1;32m     13\u001b[0m         dt\u001b[38;5;241m=\u001b[39m\u001b[38;5;241m0.005\u001b[39m,\n\u001b[1;32m     14\u001b[0m         dynamics\u001b[38;5;241m=\u001b[39mFullQuadrotorDynamics(),\n\u001b[0;32m   (...)\u001b[0m\n\u001b[1;32m     18\u001b[0m         t_total\u001b[38;5;241m=\u001b[39mt_total,\n\u001b[1;32m     19\u001b[0m     )\n\u001b[0;32m---> 21\u001b[0m     output \u001b[38;5;241m=\u001b[39m \u001b[43msim\u001b[49m\u001b[38;5;241;43m.\u001b[39;49m\u001b[43msimulate\u001b[49m\u001b[43m(\u001b[49m\u001b[43m)\u001b[49m\n\u001b[1;32m     22\u001b[0m     plot \u001b[38;5;241m=\u001b[39m animate_k3d(output)\n\u001b[1;32m     24\u001b[0m     plot\u001b[38;5;241m.\u001b[39mdisplay()\n",
      "File \u001b[0;32m~/Desktop/oa-project-08-24/quadrotor/simulator.py:60\u001b[0m, in \u001b[0;36mSimulatorBase.simulate\u001b[0;34m(self)\u001b[0m\n\u001b[1;32m     58\u001b[0m \u001b[38;5;28;01mwhile\u001b[39;00m t \u001b[38;5;241m<\u001b[39m \u001b[38;5;28mself\u001b[39m\u001b[38;5;241m.\u001b[39mt_total:\n\u001b[1;32m     59\u001b[0m     trajectory \u001b[38;5;241m=\u001b[39m \u001b[38;5;28mself\u001b[39m\u001b[38;5;241m.\u001b[39mtrajectory\u001b[38;5;241m.\u001b[39meval(t)\n\u001b[0;32m---> 60\u001b[0m     command \u001b[38;5;241m=\u001b[39m \u001b[38;5;28;43mself\u001b[39;49m\u001b[38;5;241;43m.\u001b[39;49m\u001b[43mcontroller\u001b[49m\u001b[38;5;241;43m.\u001b[39;49m\u001b[43mstep\u001b[49m\u001b[43m(\u001b[49m\u001b[43mt\u001b[49m\u001b[43m,\u001b[49m\u001b[43m \u001b[49m\u001b[43mtrajectory\u001b[49m\u001b[43m,\u001b[49m\u001b[43m \u001b[49m\u001b[43mstate\u001b[49m\u001b[43m)\u001b[49m\n\u001b[1;32m     61\u001b[0m     state \u001b[38;5;241m=\u001b[39m \u001b[38;5;28mself\u001b[39m\u001b[38;5;241m.\u001b[39mdynamics\u001b[38;5;241m.\u001b[39mstep(t, command)\n\u001b[1;32m     63\u001b[0m     output\u001b[38;5;241m.\u001b[39mappend(SimulatorState(t, state, command, trajectory))\n",
      "Cell \u001b[0;32mIn[62], line 41\u001b[0m, in \u001b[0;36mController.step\u001b[0;34m(self, t, trajectory, state)\u001b[0m\n\u001b[1;32m     38\u001b[0m u2 \u001b[38;5;241m=\u001b[39m \u001b[38;5;28mself\u001b[39m\u001b[38;5;241m.\u001b[39mparams\u001b[38;5;241m.\u001b[39mKa_p \u001b[38;5;241m@\u001b[39m orientation_error_vec \u001b[38;5;241m+\u001b[39m \u001b[38;5;28mself\u001b[39m\u001b[38;5;241m.\u001b[39mparams\u001b[38;5;241m.\u001b[39mKa_d \u001b[38;5;241m@\u001b[39m angular_velocity_error\n\u001b[1;32m     40\u001b[0m \u001b[38;5;66;03m# Pack the control commands (fix: pass positional arguments u1 and u2)\u001b[39;00m\n\u001b[0;32m---> 41\u001b[0m \u001b[38;5;28;01mreturn\u001b[39;00m \u001b[43mQuadrotorCommands\u001b[49m\u001b[43m(\u001b[49m\u001b[43mu1\u001b[49m\u001b[43m,\u001b[49m\u001b[43m \u001b[49m\u001b[43mu2\u001b[49m\u001b[43m)\u001b[49m\n",
      "\u001b[0;31mTypeError\u001b[0m: QuadrotorCommands.__init__() takes 2 positional arguments but 3 were given"
     ]
    }
   ],
   "source": [
    "# NOTE(roy) play with this variable and see what happens!\n",
    "initial_state = QuadrotorState(\n",
    "    position=np.zeros(3),\n",
    "    velocity=np.array([0, 0, 0]),\n",
    "    orientation=Rot3.from_yaw_pitch_roll(0, 0, 0),\n",
    "    angular_velocity=np.zeros(3),\n",
    ")\n",
    "\n",
    "#Trying to dampen and slow response\n",
    "controller_p.K_p = np.diag([0.5, 0.5, 50])\n",
    "controller_p.K_d = np.diag([0.3, 0.3, 5])\n",
    "controller_p.Ka_p = np.diag([150, 150, 25])\n",
    "controller_p.Ka_d = np.diag([30, 30, 10])\n",
    "\n",
    "\n",
    "# Run the simulation for 10 seconds\n",
    "#run_and_render(initial_state, t_total=10.0)\n",
    "run_and_render_smooth(initial_state, t_total=10.0)"
   ]
  },
  {
   "cell_type": "markdown",
   "id": "77796509-2009-453e-9263-930a80d53ca5",
   "metadata": {},
   "source": [
    "### Looking at the controller behavior\n",
    "If all is well, the quadrotor should follow the trajectory!\n",
    "\n",
    "Try some experiments:\n",
    "- Can you make the controller more/less damped and faster/slower to respond?\n",
    "- Can you write a trajectory that has feasible velocities/positions?\n",
    "    - Hint: the trajectory that's currently there is infeasible, why?"
   ]
  },
  {
   "cell_type": "markdown",
   "id": "0d508b90-8de3-4ce2-bd54-284774a957ad",
   "metadata": {},
   "source": [
    "### Commit your updated notebook to your fork!"
   ]
  }
 ],
 "metadata": {
  "kernelspec": {
   "display_name": "Python 3 (ipykernel)",
   "language": "python",
   "name": "python3"
  },
  "language_info": {
   "codemirror_mode": {
    "name": "ipython",
    "version": 3
   },
   "file_extension": ".py",
   "mimetype": "text/x-python",
   "name": "python",
   "nbconvert_exporter": "python",
   "pygments_lexer": "ipython3",
   "version": "3.12.5"
  }
 },
 "nbformat": 4,
 "nbformat_minor": 5
}
